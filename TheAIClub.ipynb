{
  "nbformat": 4,
  "nbformat_minor": 0,
  "metadata": {
    "colab": {
      "name": "TheAIClub.ipynb",
      "provenance": []
    },
    "kernelspec": {
      "name": "python3",
      "display_name": "Python 3"
    }
  },
  "cells": [
    {
      "cell_type": "markdown",
      "metadata": {
        "id": "fgIRFEpR3-aO"
      },
      "source": [
        "#Data"
      ]
    },
    {
      "cell_type": "code",
      "metadata": {
        "colab": {
          "base_uri": "https://localhost:8080/",
          "height": 1000
        },
        "id": "31U4UsqaKeMR",
        "outputId": "c228e82e-1911-47b9-fcfc-39d698863ecb"
      },
      "source": [
        "import pandas as pd\r\n",
        "import numpy as np\r\n",
        "from tqdm import tqdm\r\n",
        "import string\r\n",
        "tqdm.pandas(desc=\"progress-bar\")\r\n",
        "from gensim.models import Doc2Vec\r\n",
        "from sklearn import utils\r\n",
        "from sklearn.model_selection import train_test_split\r\n",
        "import gensim\r\n",
        "from sklearn.linear_model import LogisticRegression\r\n",
        "from gensim.models.doc2vec import TaggedDocument\r\n",
        "import re\r\n",
        "import seaborn as sns\r\n",
        "import matplotlib.pyplot as plt\r\n",
        "\r\n",
        "#Reading the data\r\n",
        "df = pd.read_csv(\"https://raw.githubusercontent.com/mhjabreel/CharCnn_Keras/master/data/ag_news_csv/train.csv\", sep=',', na_values=['nan', '?'], \r\n",
        "                 names=['ClassID', 'Title', 'Body'])\r\n",
        "#Combining the text and body into a single dataframe caleld text \r\n",
        "df['Text'] = df['Title'].str.cat(df['Body'], sep =\" \") \r\n",
        "df.drop(['Title', 'Body'], axis=1, inplace=True)\r\n",
        "\r\n",
        "!python -m pip install pyspellchecker\r\n",
        "!pip install num2words\r\n",
        "!pip install word2vec\r\n",
        "import nltk\r\n",
        "nltk.download('stopwords')\r\n",
        "\r\n",
        "from num2words import num2words \r\n",
        "from nltk.stem import WordNetLemmatizer \r\n",
        "from nltk.stem import PorterStemmer \r\n",
        "from nltk.corpus import stopwords\r\n",
        "import operator\r\n",
        "from spellchecker import SpellChecker\r\n",
        "\r\n",
        "#Remove URLs\r\n",
        "def remove_urls(data):\r\n",
        "    url_pattern = re.compile(r'https?://\\S+|www\\.\\S+')\r\n",
        "    return url_pattern.sub(r'', data)\r\n",
        "\r\n",
        "#Correcting spellings\r\n",
        "def correct_spellings(data):\r\n",
        "    spell = SpellChecker()\r\n",
        "    corrected_text = []\r\n",
        "    misspelled_words = spell.unknown(data.split())\r\n",
        "    for word in data.split():\r\n",
        "        if word in misspelled_words:\r\n",
        "            corrected_text.append(spell.correction(word))\r\n",
        "        else:\r\n",
        "            corrected_text.append(word)\r\n",
        "    return \" \".join(corrected_text)\r\n",
        "\r\n",
        "def convert_lower_case(data):\r\n",
        "  return str(data).lower()\r\n",
        "\r\n",
        "#Removing the punctuations\r\n",
        "def remove_punctuation(data):\r\n",
        "  symbols = string.punctuation\r\n",
        "  for symbol in symbols:\r\n",
        "    data = str(data).replace(symbol, '')\r\n",
        "  return data\r\n",
        "\r\n",
        "#Remove single words a they are meaningless\r\n",
        "def remove_single_characters(data):\r\n",
        "  new_data = \"\"\r\n",
        "  for word in data.split():\r\n",
        "    if len(word) > 1:\r\n",
        "      new_data = new_data + \" \" + word\r\n",
        "  return new_data\r\n",
        "\r\n",
        "#Convert numbers into words\r\n",
        "def convert_numbers(data):\r\n",
        "  new_data = \"\"\r\n",
        "  for word in data.split():\r\n",
        "    if(word.isnumeric()):\r\n",
        "      word = num2words(word)\r\n",
        "    new_data = new_data + \" \" + word\r\n",
        "  return new_data\r\n",
        "\r\n",
        "#Stemming the dataset\r\n",
        "def stemming(data):\r\n",
        "  stemmer = PorterStemmer()\r\n",
        "  new_data = \"\"\r\n",
        "  for word in data.split():\r\n",
        "    word = stemmer.stem(word)\r\n",
        "    new_data = new_data + \" \" + word\r\n",
        "  return new_data\r\n",
        "\r\n",
        "#Lemmatizing the dataset\r\n",
        "def lemmatizer(data):\r\n",
        "  lemmatizer = WordNetLemmatizer()\r\n",
        "  new_data = \"\"\r\n",
        "  for word in data.split():\r\n",
        "    word = lemmatizer.lemmatize(word)\r\n",
        "    new_data = new_data + \" \" + word\r\n",
        "  return new_data\r\n",
        "\r\n",
        "#Preprocessing-01\r\n",
        "def preprocessing1(dataset):\r\n",
        "  new_dataset = []\r\n",
        "  for data in dataset:\r\n",
        "    #data = remove_urls(data)\r\n",
        "    #data = correct_spellings(data)\r\n",
        "    data = convert_lower_case(data)\r\n",
        "    data = remove_punctuation(data)\r\n",
        "    data = remove_single_characters(data)\r\n",
        "    data = convert_numbers(data)\r\n",
        "    data = remove_punctuation(data)\r\n",
        "    data = convert_numbers(data)\r\n",
        "    new_dataset.append(data)\r\n",
        "  return new_dataset\r\n",
        "\r\n",
        "df['Text'] = preprocessing1(df['Text'])\r\n",
        "##################################################\r\n",
        "#Preprocessing for removing stopwords\r\n",
        "\r\n",
        "#Building a list of stopwords from the data using Zipf' Law\r\n",
        "def buildstoplist(trainingdata):\r\n",
        "    index = {}\r\n",
        "    wordcount = 0\r\n",
        "    wordprob = {}\r\n",
        "    stop_words = list(stopwords.words('english')) #Calling predefined stopwords list from nltk\r\n",
        "    for i in trainingdata:\r\n",
        "        for word in i[0].split():\r\n",
        "            word = re.sub('[^a-zA-Z0-9 \\n\\.]', '', word)\r\n",
        "            if word != '':\r\n",
        "                wordcount += 1\r\n",
        "                if word not in index:\r\n",
        "                    index[word] = 1\r\n",
        "                else:\r\n",
        "                    index[word] += 1\r\n",
        "    \r\n",
        "    for word in index:\r\n",
        "        wordprob[word] = round(float(index[word])/wordcount*100,4) #Calculating the probability\r\n",
        "        \r\n",
        "    stoplist = sorted(wordprob, key=operator.itemgetter(1) ,reverse=True)[:25000] #Storing top 25000 most frequent words of the data\r\n",
        "    \r\n",
        "    for i in stoplist:\r\n",
        "        stop_words.append(i[0]) #Making a list od stopwords\r\n",
        "    stop_words.append('reuters')\r\n",
        "    return stop_words\r\n",
        "  \r\n",
        "stopwords = buildstoplist(df['Text'])\r\n",
        "\r\n",
        "#Removing stopwords from the dataset\r\n",
        "def remove_stopwords(data):\r\n",
        "  new_data = \"\"\r\n",
        "  for word in data.split():\r\n",
        "    if word not in stopwords:\r\n",
        "      new_data = new_data + \" \" + word\r\n",
        "  return new_data\r\n",
        "\r\n",
        "#Preprocessing-02\r\n",
        "def preprocessing2(dataset):\r\n",
        "  new_dataset = []\r\n",
        "  for data in dataset:\r\n",
        "    #data = remove_urls(data)\r\n",
        "    #data = correct_spellings(data)\r\n",
        "    data = remove_stopwords(data)\r\n",
        "    new_dataset.append(data)\r\n",
        "  return new_dataset\r\n",
        "\r\n",
        "df['Text'] = preprocessing2(df['Text'])\r\n",
        "df['Text'].head()\r\n",
        "\r\n",
        "from gensim.models import Word2Vec\r\n",
        "sentences  = []\r\n",
        "#Getting tokens of words\r\n",
        "for sentence in df['Text']:\r\n",
        "  sentences.append(sentence.split())\r\n",
        "\r\n",
        "#Creating a word2vec with vector size of 150\r\n",
        "model = Word2Vec(sentences, size = 150, min_count=1)\r\n",
        "#Calling the vocabulary of model into X\r\n",
        "X = model[model.wv.vocab]\r\n",
        "\r\n",
        "# train autoencoder for classification with with compression in the bottleneck layer\r\n",
        "from sklearn.datasets import make_classification\r\n",
        "from sklearn.preprocessing import MinMaxScaler   \r\n",
        "from sklearn.model_selection import train_test_split\r\n",
        "from tensorflow.keras.models import Model\r\n",
        "from tensorflow.keras.layers import Input\r\n",
        "from tensorflow.keras.layers import Dense\r\n",
        "from tensorflow.keras.layers import LeakyReLU\r\n",
        "from tensorflow.keras.layers import BatchNormalization\r\n",
        "from tensorflow.keras.utils import plot_model\r\n",
        "from matplotlib import pyplot\r\n",
        "# number of input columns\r\n",
        "n_inputs = X.shape[1]\r\n",
        "# split into train test sets\r\n",
        "X_train = X[:80000]\r\n",
        "X_test = X[80000:]\r\n",
        "# scale data\r\n",
        "t = MinMaxScaler()\r\n",
        "t.fit(X_train)\r\n",
        "X_train = t.transform(X_train)\r\n",
        "X_test = t.transform(X_test)\r\n",
        "# define encoder\r\n",
        "visible = Input(shape=(n_inputs,))\r\n",
        "# encoder level 1\r\n",
        "e = Dense(n_inputs*2)(visible)\r\n",
        "e = BatchNormalization()(e)\r\n",
        "e = LeakyReLU()(e)\r\n",
        "# encoder level 2\r\n",
        "e = Dense(n_inputs)(e)\r\n",
        "e = BatchNormalization()(e)\r\n",
        "e = LeakyReLU()(e)\r\n",
        "# bottleneck\r\n",
        "n_bottleneck = round(2.0)\r\n",
        "#float(n_inputs) / 5.0\r\n",
        "bottleneck = Dense(n_bottleneck)(e)\r\n",
        "# define decoder, level 1\r\n",
        "d = Dense(n_inputs)(bottleneck)\r\n",
        "d = BatchNormalization()(d)\r\n",
        "d = LeakyReLU()(d)\r\n",
        "# decoder level 2\r\n",
        "d = Dense(n_inputs*2)(d)\r\n",
        "d = BatchNormalization()(d)\r\n",
        "d = LeakyReLU()(d)\r\n",
        "# output layer\r\n",
        "output = Dense(n_inputs, activation='linear')(d)\r\n",
        "# define autoencoder model\r\n",
        "model = Model(inputs=visible, outputs=output)\r\n",
        "# compile autoencoder model\r\n",
        "model.compile(optimizer='adam', loss='mse')\r\n",
        "# plot the autoencoder\r\n",
        "plot_model(model, 'autoencoder_compress.png', show_shapes=True)\r\n",
        "# fit the autoencoder model to reconstruct input\r\n",
        "history = model.fit(X_train, X_train, epochs=100, batch_size=16, verbose=2, validation_data=(X_test,X_test))\r\n",
        "# plot loss\r\n",
        "pyplot.plot(history.history['loss'], label='train')\r\n",
        "pyplot.plot(history.history['val_loss'], label='test')\r\n",
        "pyplot.legend()\r\n",
        "pyplot.show()\r\n",
        "# define an encoder model (without the decoder)\r\n",
        "encoder = Model(inputs=visible, outputs=bottleneck)\r\n",
        "plot_model(encoder, 'encoder_compress.png', show_shapes=True)\r\n",
        "# save the encoder to file\r\n",
        "encoder.save('encoder.h5')\r\n",
        "\r\n",
        "import tensorflow as tf\r\n",
        "encoder = tf.keras.models.load_model('encoder.h5') #calling the function\r\n",
        "X = encoder.predict(X) #predicting the encoded X\r\n",
        "X.shape"
      ],
      "execution_count": 4,
      "outputs": [
        {
          "output_type": "stream",
          "text": [
            "/usr/local/lib/python3.7/dist-packages/tqdm/std.py:658: FutureWarning: The Panel class is removed from pandas. Accessing it from the top-level namespace will also be removed in the next version\n",
            "  from pandas import Panel\n"
          ],
          "name": "stderr"
        },
        {
          "output_type": "stream",
          "text": [
            "Requirement already satisfied: pyspellchecker in /usr/local/lib/python3.7/dist-packages (0.6.1)\n",
            "Requirement already satisfied: num2words in /usr/local/lib/python3.7/dist-packages (0.5.10)\n",
            "Requirement already satisfied: docopt>=0.6.2 in /usr/local/lib/python3.7/dist-packages (from num2words) (0.6.2)\n",
            "Requirement already satisfied: word2vec in /usr/local/lib/python3.7/dist-packages (0.11.1)\n",
            "Requirement already satisfied: numpy>=1.9.2 in /usr/local/lib/python3.7/dist-packages (from word2vec) (1.19.5)\n",
            "Requirement already satisfied: joblib in /usr/local/lib/python3.7/dist-packages (from word2vec) (1.0.1)\n",
            "[nltk_data] Downloading package stopwords to /root/nltk_data...\n",
            "[nltk_data]   Package stopwords is already up-to-date!\n"
          ],
          "name": "stdout"
        },
        {
          "output_type": "stream",
          "text": [
            "/usr/local/lib/python3.7/dist-packages/ipykernel_launcher.py:175: DeprecationWarning: Call to deprecated `__getitem__` (Method will be removed in 4.0.0, use self.wv.__getitem__() instead).\n"
          ],
          "name": "stderr"
        },
        {
          "output_type": "stream",
          "text": [
            "Epoch 1/100\n",
            "5000/5000 - 22s - loss: 0.0033 - val_loss: 0.0016\n",
            "Epoch 2/100\n",
            "5000/5000 - 21s - loss: 0.0011 - val_loss: 0.0113\n",
            "Epoch 3/100\n",
            "5000/5000 - 21s - loss: 8.0664e-04 - val_loss: 6.2269e-04\n",
            "Epoch 4/100\n",
            "5000/5000 - 21s - loss: 6.3956e-04 - val_loss: 2.9405e-04\n",
            "Epoch 5/100\n",
            "5000/5000 - 21s - loss: 5.0530e-04 - val_loss: 5.9208e-05\n",
            "Epoch 6/100\n",
            "5000/5000 - 21s - loss: 4.3624e-04 - val_loss: 0.0011\n",
            "Epoch 7/100\n",
            "5000/5000 - 21s - loss: 4.1129e-04 - val_loss: 8.5951e-05\n",
            "Epoch 8/100\n",
            "5000/5000 - 21s - loss: 4.0116e-04 - val_loss: 3.5357e-05\n",
            "Epoch 9/100\n",
            "5000/5000 - 21s - loss: 3.9413e-04 - val_loss: 1.3022e-05\n",
            "Epoch 10/100\n",
            "5000/5000 - 21s - loss: 3.8846e-04 - val_loss: 1.4833e-05\n",
            "Epoch 11/100\n",
            "5000/5000 - 21s - loss: 3.8560e-04 - val_loss: 3.6293e-05\n",
            "Epoch 12/100\n",
            "5000/5000 - 21s - loss: 3.8123e-04 - val_loss: 4.5200e-05\n",
            "Epoch 13/100\n",
            "5000/5000 - 21s - loss: 3.7979e-04 - val_loss: 1.1751e-05\n",
            "Epoch 14/100\n",
            "5000/5000 - 21s - loss: 3.7653e-04 - val_loss: 2.3745e-05\n",
            "Epoch 15/100\n",
            "5000/5000 - 21s - loss: 3.7453e-04 - val_loss: 1.3796e-05\n",
            "Epoch 16/100\n",
            "5000/5000 - 21s - loss: 3.7354e-04 - val_loss: 6.3150e-05\n",
            "Epoch 17/100\n",
            "5000/5000 - 21s - loss: 3.7148e-04 - val_loss: 1.0355e-04\n",
            "Epoch 18/100\n",
            "5000/5000 - 21s - loss: 3.6970e-04 - val_loss: 1.0300e-05\n",
            "Epoch 19/100\n",
            "5000/5000 - 20s - loss: 3.6874e-04 - val_loss: 1.4334e-05\n",
            "Epoch 20/100\n",
            "5000/5000 - 21s - loss: 3.6779e-04 - val_loss: 5.9858e-05\n",
            "Epoch 21/100\n",
            "5000/5000 - 21s - loss: 3.6737e-04 - val_loss: 4.3190e-05\n",
            "Epoch 22/100\n",
            "5000/5000 - 21s - loss: 3.6518e-04 - val_loss: 1.0807e-05\n",
            "Epoch 23/100\n",
            "5000/5000 - 21s - loss: 3.6461e-04 - val_loss: 1.7149e-05\n",
            "Epoch 24/100\n",
            "5000/5000 - 21s - loss: 3.6443e-04 - val_loss: 1.5017e-05\n",
            "Epoch 25/100\n",
            "5000/5000 - 21s - loss: 3.6323e-04 - val_loss: 4.9627e-05\n",
            "Epoch 26/100\n",
            "5000/5000 - 21s - loss: 3.6177e-04 - val_loss: 2.1377e-05\n",
            "Epoch 27/100\n",
            "5000/5000 - 21s - loss: 3.6072e-04 - val_loss: 1.7446e-05\n",
            "Epoch 28/100\n",
            "5000/5000 - 21s - loss: 3.6119e-04 - val_loss: 1.3524e-05\n",
            "Epoch 29/100\n",
            "5000/5000 - 21s - loss: 3.6006e-04 - val_loss: 9.1575e-06\n",
            "Epoch 30/100\n",
            "5000/5000 - 21s - loss: 3.5980e-04 - val_loss: 2.5273e-05\n",
            "Epoch 31/100\n",
            "5000/5000 - 21s - loss: 3.5838e-04 - val_loss: 2.2683e-05\n",
            "Epoch 32/100\n",
            "5000/5000 - 20s - loss: 3.5769e-04 - val_loss: 1.6318e-04\n",
            "Epoch 33/100\n",
            "5000/5000 - 20s - loss: 3.5775e-04 - val_loss: 9.9876e-06\n",
            "Epoch 34/100\n",
            "5000/5000 - 21s - loss: 3.5687e-04 - val_loss: 5.8051e-05\n",
            "Epoch 35/100\n",
            "5000/5000 - 21s - loss: 3.5634e-04 - val_loss: 9.2331e-05\n",
            "Epoch 36/100\n",
            "5000/5000 - 21s - loss: 3.5513e-04 - val_loss: 1.1734e-05\n",
            "Epoch 37/100\n",
            "5000/5000 - 21s - loss: 3.5578e-04 - val_loss: 1.9048e-05\n",
            "Epoch 38/100\n",
            "5000/5000 - 21s - loss: 3.5411e-04 - val_loss: 2.4036e-05\n",
            "Epoch 39/100\n",
            "5000/5000 - 20s - loss: 3.5391e-04 - val_loss: 2.4660e-05\n",
            "Epoch 40/100\n",
            "5000/5000 - 21s - loss: 3.5398e-04 - val_loss: 1.1016e-05\n",
            "Epoch 41/100\n",
            "5000/5000 - 21s - loss: 3.5416e-04 - val_loss: 2.2948e-05\n",
            "Epoch 42/100\n",
            "5000/5000 - 21s - loss: 3.5268e-04 - val_loss: 1.3180e-05\n",
            "Epoch 43/100\n",
            "5000/5000 - 21s - loss: 3.5342e-04 - val_loss: 2.9676e-05\n",
            "Epoch 44/100\n",
            "5000/5000 - 21s - loss: 3.5392e-04 - val_loss: 8.1236e-04\n",
            "Epoch 45/100\n",
            "5000/5000 - 21s - loss: 3.5291e-04 - val_loss: 2.4976e-05\n",
            "Epoch 46/100\n",
            "5000/5000 - 21s - loss: 3.5237e-04 - val_loss: 8.1296e-06\n",
            "Epoch 47/100\n",
            "5000/5000 - 21s - loss: 3.5147e-04 - val_loss: 6.6858e-06\n",
            "Epoch 48/100\n",
            "5000/5000 - 21s - loss: 3.5268e-04 - val_loss: 8.7650e-05\n",
            "Epoch 49/100\n",
            "5000/5000 - 21s - loss: 3.5017e-04 - val_loss: 1.6646e-05\n",
            "Epoch 50/100\n",
            "5000/5000 - 21s - loss: 3.4974e-04 - val_loss: 1.9570e-05\n",
            "Epoch 51/100\n",
            "5000/5000 - 21s - loss: 3.5055e-04 - val_loss: 1.5601e-05\n",
            "Epoch 52/100\n",
            "5000/5000 - 21s - loss: 3.4879e-04 - val_loss: 2.6083e-05\n",
            "Epoch 53/100\n",
            "5000/5000 - 21s - loss: 3.5020e-04 - val_loss: 0.0077\n",
            "Epoch 54/100\n",
            "5000/5000 - 21s - loss: 3.4884e-04 - val_loss: 1.0622e-05\n",
            "Epoch 55/100\n",
            "5000/5000 - 21s - loss: 3.4915e-04 - val_loss: 2.6136e-05\n",
            "Epoch 56/100\n",
            "5000/5000 - 21s - loss: 3.4788e-04 - val_loss: 2.5031e-05\n",
            "Epoch 57/100\n",
            "5000/5000 - 21s - loss: 3.4912e-04 - val_loss: 1.1019e-04\n",
            "Epoch 58/100\n",
            "5000/5000 - 21s - loss: 3.4800e-04 - val_loss: 4.3960e-05\n",
            "Epoch 59/100\n",
            "5000/5000 - 21s - loss: 3.4851e-04 - val_loss: 3.0830e-05\n",
            "Epoch 60/100\n",
            "5000/5000 - 21s - loss: 3.4908e-04 - val_loss: 1.1631e-05\n",
            "Epoch 61/100\n",
            "5000/5000 - 21s - loss: 3.4798e-04 - val_loss: 2.2300e-05\n",
            "Epoch 62/100\n",
            "5000/5000 - 21s - loss: 3.4814e-04 - val_loss: 1.2185e-05\n",
            "Epoch 63/100\n",
            "5000/5000 - 21s - loss: 3.4861e-04 - val_loss: 8.3491e-06\n",
            "Epoch 64/100\n",
            "5000/5000 - 21s - loss: 3.4747e-04 - val_loss: 2.3477e-05\n",
            "Epoch 65/100\n",
            "5000/5000 - 21s - loss: 3.4633e-04 - val_loss: 3.0300e-04\n",
            "Epoch 66/100\n",
            "5000/5000 - 21s - loss: 3.4687e-04 - val_loss: 2.4448e-05\n",
            "Epoch 67/100\n",
            "5000/5000 - 21s - loss: 3.4717e-04 - val_loss: 1.4775e-05\n",
            "Epoch 68/100\n",
            "5000/5000 - 21s - loss: 3.4643e-04 - val_loss: 1.1903e-05\n",
            "Epoch 69/100\n",
            "5000/5000 - 21s - loss: 3.4747e-04 - val_loss: 1.1550e-05\n",
            "Epoch 70/100\n",
            "5000/5000 - 21s - loss: 3.4685e-04 - val_loss: 7.3625e-04\n",
            "Epoch 71/100\n",
            "5000/5000 - 21s - loss: 3.4549e-04 - val_loss: 3.9514e-04\n",
            "Epoch 72/100\n",
            "5000/5000 - 21s - loss: 3.4623e-04 - val_loss: 2.1116e-04\n",
            "Epoch 73/100\n",
            "5000/5000 - 21s - loss: 3.4482e-04 - val_loss: 2.3814e-05\n",
            "Epoch 74/100\n",
            "5000/5000 - 21s - loss: 3.4621e-04 - val_loss: 3.8172e-05\n",
            "Epoch 75/100\n",
            "5000/5000 - 21s - loss: 3.4519e-04 - val_loss: 8.3816e-06\n",
            "Epoch 76/100\n",
            "5000/5000 - 21s - loss: 3.4442e-04 - val_loss: 1.4793e-05\n",
            "Epoch 77/100\n",
            "5000/5000 - 21s - loss: 3.4455e-04 - val_loss: 2.4770e-05\n",
            "Epoch 78/100\n",
            "5000/5000 - 21s - loss: 3.4518e-04 - val_loss: 8.1582e-06\n",
            "Epoch 79/100\n",
            "5000/5000 - 21s - loss: 3.4381e-04 - val_loss: 2.3771e-05\n",
            "Epoch 80/100\n",
            "5000/5000 - 21s - loss: 3.4378e-04 - val_loss: 3.3159e-05\n",
            "Epoch 81/100\n",
            "5000/5000 - 21s - loss: 3.4396e-04 - val_loss: 1.6695e-05\n",
            "Epoch 82/100\n",
            "5000/5000 - 21s - loss: 3.4550e-04 - val_loss: 1.5862e-05\n",
            "Epoch 83/100\n",
            "5000/5000 - 21s - loss: 3.4351e-04 - val_loss: 2.6088e-05\n",
            "Epoch 84/100\n",
            "5000/5000 - 21s - loss: 3.4421e-04 - val_loss: 1.6828e-05\n",
            "Epoch 85/100\n",
            "5000/5000 - 21s - loss: 3.4301e-04 - val_loss: 9.0585e-04\n",
            "Epoch 86/100\n",
            "5000/5000 - 21s - loss: 3.4318e-04 - val_loss: 1.7578e-05\n",
            "Epoch 87/100\n",
            "5000/5000 - 21s - loss: 3.4353e-04 - val_loss: 1.6356e-05\n",
            "Epoch 88/100\n",
            "5000/5000 - 21s - loss: 3.4205e-04 - val_loss: 1.9144e-05\n",
            "Epoch 89/100\n",
            "5000/5000 - 21s - loss: 3.4401e-04 - val_loss: 4.7929e-05\n",
            "Epoch 90/100\n",
            "5000/5000 - 22s - loss: 3.4260e-04 - val_loss: 1.0193e-05\n",
            "Epoch 91/100\n",
            "5000/5000 - 22s - loss: 3.4305e-04 - val_loss: 4.6334e-05\n",
            "Epoch 92/100\n",
            "5000/5000 - 21s - loss: 3.4193e-04 - val_loss: 1.3914e-05\n",
            "Epoch 93/100\n",
            "5000/5000 - 21s - loss: 3.4113e-04 - val_loss: 9.9003e-06\n",
            "Epoch 94/100\n",
            "5000/5000 - 21s - loss: 3.4138e-04 - val_loss: 1.7278e-05\n",
            "Epoch 95/100\n",
            "5000/5000 - 21s - loss: 3.4227e-04 - val_loss: 2.6767e-05\n",
            "Epoch 96/100\n",
            "5000/5000 - 22s - loss: 3.4292e-04 - val_loss: 1.0516e-05\n",
            "Epoch 97/100\n",
            "5000/5000 - 22s - loss: 3.4127e-04 - val_loss: 3.9300e-05\n",
            "Epoch 98/100\n",
            "5000/5000 - 21s - loss: 3.3995e-04 - val_loss: 1.7650e-05\n",
            "Epoch 99/100\n",
            "5000/5000 - 22s - loss: 3.4199e-04 - val_loss: 1.1607e-05\n",
            "Epoch 100/100\n",
            "5000/5000 - 21s - loss: 3.4129e-04 - val_loss: 1.1395e-05\n"
          ],
          "name": "stdout"
        },
        {
          "output_type": "display_data",
          "data": {
            "image/png": "[encoded data removed]",
            "text/plain": [
              "<Figure size 432x288 with 1 Axes>"
            ]
          },
          "metadata": {
            "tags": [],
            "needs_background": "light"
          }
        },
        {
          "output_type": "stream",
          "text": [
            "WARNING:tensorflow:No training configuration found in the save file, so the model was *not* compiled. Compile it manually.\n"
          ],
          "name": "stdout"
        },
        {
          "output_type": "execute_result",
          "data": {
            "text/plain": [
              "(98114, 2)"
            ]
          },
          "metadata": {
            "tags": []
          },
          "execution_count": 4
        }
      ]
    },
    {
      "cell_type": "markdown",
      "metadata": {
        "id": "qG7WwS1XEqx2"
      },
      "source": [
        "# Pivot Point Matrix(P):\r\n",
        "This is a graph matrix of K Nearest Neighbors which act as the pivot points for the rest of the calculation for approximation of the matrix through Nystrom Method .This is created by the brute force method from the points sampled out from the large dataset. "
      ]
    },
    {
      "cell_type": "code",
      "metadata": {
        "id": "oVb_OA-PJZBH"
      },
      "source": [
        "import random\r\n",
        "from sklearn.neighbors import kneighbors_graph\r\n",
        "\r\n",
        "idx = list(range(0, X.shape[0]))\r\n",
        "rand_idx = random.sample(idx, 9400)\r\n",
        "for i in rand_idx:\r\n",
        "  idx.remove(i)\r\n",
        "\r\n",
        "rand_X = []\r\n",
        "for i in rand_idx:\r\n",
        "  rand_X.append(X[i])\r\n",
        "\r\n",
        "P = kneighbors_graph(rand_X, n_neighbors=5).toarray()"
      ],
      "execution_count": 2,
      "outputs": []
    },
    {
      "cell_type": "code",
      "metadata": {
        "colab": {
          "base_uri": "https://localhost:8080/"
        },
        "id": "Clj5s2VaHzIp",
        "outputId": "9aad13d9-39af-4605-ba6d-36e311aa4b11"
      },
      "source": [
        "P. shape"
      ],
      "execution_count": 3,
      "outputs": [
        {
          "output_type": "execute_result",
          "data": {
            "text/plain": [
              "(9400, 9400)"
            ]
          },
          "metadata": {
            "tags": []
          },
          "execution_count": 3
        }
      ]
    },
    {
      "cell_type": "markdown",
      "metadata": {
        "id": "o60akhwEIPQj"
      },
      "source": [
        "#Reference Point Matrix(R & R'):\r\n"
      ]
    },
    {
      "cell_type": "code",
      "metadata": {
        "id": "z55LBJw0DvLt"
      },
      "source": [
        "import numpy as np\r\n",
        "from scipy.spatial import distance \r\n",
        "\r\n",
        "k = 9401\r\n",
        "R = np.zeros((9400,88714))\r\n",
        "R.shape\r\n",
        "\r\n",
        "for i in rand_idx:\r\n",
        "  for j in idx:\r\n",
        "    if distance.euclidean(X[i], X[j]) < 5:\r\n",
        "      R[i][k] = 1\r\n",
        "    else:\r\n",
        "      R[i][j] = 0\r\n",
        "    k += 1\r\n",
        "\r\n",
        "RT = numpy.transpose(R)"
      ],
      "execution_count": null,
      "outputs": []
    },
    {
      "cell_type": "markdown",
      "metadata": {
        "id": "ouFNRXxTGU1T"
      },
      "source": [
        "#Resultant Matrix(A):\r\n",
        "Here we create the resultant matrix which would be used as the affinity matrix in the calculation of graph laplacian for eigen value decomposition."
      ]
    },
    {
      "cell_type": "code",
      "metadata": {
        "id": "JQprmDKDGUlj"
      },
      "source": [
        "P_inv = np.linalg.inv(P)\r\n",
        "A = RT* P_inv* R"
      ],
      "execution_count": null,
      "outputs": []
    },
    {
      "cell_type": "markdown",
      "metadata": {
        "id": "4QivK8VgIp7c"
      },
      "source": [
        "#Diagnol Matrix(D):\r\n"
      ]
    },
    {
      "cell_type": "code",
      "metadata": {
        "id": "f18fxxTjIjgJ"
      },
      "source": [
        "D = np.diag(A.sum(axis=1))"
      ],
      "execution_count": null,
      "outputs": []
    },
    {
      "cell_type": "markdown",
      "metadata": {
        "id": "jJI4N9LLHbRy"
      },
      "source": [
        "#Laplacian Matrix(L):"
      ]
    },
    {
      "cell_type": "code",
      "metadata": {
        "id": "rR_DacoTHbnK"
      },
      "source": [
        "# calculated the laplacian matrix by taking the difference between the diagnol matrix and the affinity matrix \r\n",
        "L = D-A"
      ],
      "execution_count": null,
      "outputs": []
    },
    {
      "cell_type": "markdown",
      "metadata": {
        "id": "Q-vffxtiGQvd"
      },
      "source": [
        "#Spectral Clustering:\r\n",
        "Here we use the above created Laplacian matrix .."
      ]
    },
    {
      "cell_type": "code",
      "metadata": {
        "id": "h8CLem7EGQgj"
      },
      "source": [
        "# find the eigenvalues and eigenvectors\r\n",
        "vals, vecs = np.linalg.eig(L)\r\n",
        "\r\n",
        "# sort\r\n",
        "vecs = vecs[:,np.argsort(vals)]\r\n",
        "vals = vals[np.argsort(vals)]\r\n",
        "\r\n",
        "# kmeans on first three vectors with nonzero eigenvalues\r\n",
        "kmeans = KMeans(n_clusters=4)\r\n",
        "kmeans.fit(vecs[:,1:4])\r\n",
        "clusters = kmeans.labels_"
      ],
      "execution_count": null,
      "outputs": []
    }
  ]
}