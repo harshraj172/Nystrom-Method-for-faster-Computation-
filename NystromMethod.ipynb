{
  "nbformat": 4,
  "nbformat_minor": 0,
  "metadata": {
    "colab": {
      "name": "NystromMethod.ipynb",
      "provenance": []
    },
    "kernelspec": {
      "name": "python3",
      "display_name": "Python 3"
    }
  },
  "cells": [
    {
      "cell_type": "markdown",
      "metadata": {
        "id": "fgIRFEpR3-aO"
      },
      "source": [
        "#Data"
      ]
    },
    {
      "cell_type": "code",
      "metadata": {
        "id": "a1LSgyE1Cu0T"
      },
      "source": [
        "#Took a data containing x and y cooridinates of 94000 points \r\n",
        "X = pd.read_csv(\"coordinates_datasets\")"
      ],
      "execution_count": null,
      "outputs": []
    },
    {
      "cell_type": "markdown",
      "metadata": {
        "id": "qG7WwS1XEqx2"
      },
      "source": [
        "# Pivot Point Matrix(P):\r\n",
        "This is a graph matrix of K Nearest Neighbors which act as the pivot points for the rest of the calculation for approximation of the matrix through Nystrom Method .This is created by the brute force method from the points sampled out from the large dataset. "
      ]
    },
    {
      "cell_type": "code",
      "metadata": {
        "id": "oVb_OA-PJZBH"
      },
      "source": [
        "import random\r\n",
        "from sklearn.neighbors import kneighbors_graph\r\n",
        "\r\n",
        "idx = list(range(0, X.shape[0]))\r\n",
        "rand_idx = random.sample(idx, 9400)\r\n",
        "for i in rand_idx:\r\n",
        "  idx.remove(i)\r\n",
        "\r\n",
        "rand_X = []\r\n",
        "for i in rand_idx:\r\n",
        "  rand_X.append(X[i])\r\n",
        "\r\n",
        "P = kneighbors_graph(rand_X, n_neighbors=5).toarray()"
      ],
      "execution_count": 2,
      "outputs": []
    },
    {
      "cell_type": "markdown",
      "metadata": {
        "id": "o60akhwEIPQj"
      },
      "source": [
        "#Reference Point Matrix(R & R'):\r\n"
      ]
    },
    {
      "cell_type": "code",
      "metadata": {
        "id": "z55LBJw0DvLt"
      },
      "source": [
        "import numpy as np\r\n",
        "from scipy.spatial import distance \r\n",
        "\r\n",
        "k = 9401\r\n",
        "R = np.zeros((9400,88714))\r\n",
        "R.shape\r\n",
        "\r\n",
        "for i in rand_idx:\r\n",
        "  for j in idx:\r\n",
        "    if distance.euclidean(X[i], X[j]) < 5:\r\n",
        "      R[i][k] = 1\r\n",
        "    else:\r\n",
        "      R[i][j] = 0\r\n",
        "    k += 1\r\n",
        "\r\n",
        "RT = numpy.transpose(R)"
      ],
      "execution_count": null,
      "outputs": []
    },
    {
      "cell_type": "markdown",
      "metadata": {
        "id": "ouFNRXxTGU1T"
      },
      "source": [
        "#Resultant Matrix(A):\r\n",
        "Here we create the resultant matrix which would be used as the affinity matrix in the calculation of graph laplacian for eigen value decomposition."
      ]
    },
    {
      "cell_type": "code",
      "metadata": {
        "id": "JQprmDKDGUlj"
      },
      "source": [
        "P_inv = np.linalg.inv(P)\r\n",
        "A = RT* P_inv* R"
      ],
      "execution_count": null,
      "outputs": []
    },
    {
      "cell_type": "markdown",
      "metadata": {
        "id": "4QivK8VgIp7c"
      },
      "source": [
        "#Diagnol Matrix(D):\r\n"
      ]
    },
    {
      "cell_type": "code",
      "metadata": {
        "id": "f18fxxTjIjgJ"
      },
      "source": [
        "D = np.diag(A.sum(axis=1))"
      ],
      "execution_count": null,
      "outputs": []
    },
    {
      "cell_type": "markdown",
      "metadata": {
        "id": "jJI4N9LLHbRy"
      },
      "source": [
        "#Laplacian Matrix(L):"
      ]
    },
    {
      "cell_type": "code",
      "metadata": {
        "id": "rR_DacoTHbnK"
      },
      "source": [
        "# calculated the laplacian matrix by taking the difference between the diagnol matrix and the affinity matrix \r\n",
        "L = D-A"
      ],
      "execution_count": null,
      "outputs": []
    },
    {
      "cell_type": "markdown",
      "metadata": {
        "id": "Q-vffxtiGQvd"
      },
      "source": [
        "#Spectral Clustering:\r\n",
        "Here we use the above created Laplacian matrix .."
      ]
    },
    {
      "cell_type": "code",
      "metadata": {
        "id": "h8CLem7EGQgj"
      },
      "source": [
        "# find the eigenvalues and eigenvectors\r\n",
        "vals, vecs = np.linalg.eig(L)\r\n",
        "\r\n",
        "# sort\r\n",
        "vecs = vecs[:,np.argsort(vals)]\r\n",
        "vals = vals[np.argsort(vals)]\r\n",
        "\r\n",
        "# kmeans on first three vectors with nonzero eigenvalues\r\n",
        "kmeans = KMeans(n_clusters=4)\r\n",
        "kmeans.fit(vecs[:,1:4])\r\n",
        "clusters = kmeans.labels_"
      ],
      "execution_count": null,
      "outputs": []
    }
  ]
}